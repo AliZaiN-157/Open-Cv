{
 "cells": [
  {
   "cell_type": "markdown",
   "metadata": {},
   "source": [
    "## `Computer Vision`"
   ]
  },
  {
   "cell_type": "code",
   "execution_count": 2,
   "metadata": {},
   "outputs": [],
   "source": [
    "#importing few libraries\n",
    "import cv2\n",
    "import numpy as np"
   ]
  },
  {
   "cell_type": "code",
   "execution_count": 6,
   "metadata": {},
   "outputs": [
    {
     "name": "stdout",
     "output_type": "stream",
     "text": [
      "[[ 0  0  0 ...  0  0  0]\n",
      " [ 0  0  0 ...  0  0  0]\n",
      " [ 0  0  0 ...  0  0  0]\n",
      " ...\n",
      " [56  0  0 ...  0  0  0]\n",
      " [30  0  0 ...  0  0  0]\n",
      " [ 4  0  0 ...  0  0  0]]\n"
     ]
    }
   ],
   "source": [
    "#Reading Image\n",
    "\n",
    "img = cv2.imread('Image/two.png', 0)\n",
    "print(img)"
   ]
  },
  {
   "cell_type": "code",
   "execution_count": 7,
   "metadata": {},
   "outputs": [
    {
     "data": {
      "text/plain": [
       "(287, 192)"
      ]
     },
     "execution_count": 7,
     "metadata": {},
     "output_type": "execute_result"
    }
   ],
   "source": [
    "img.shape"
   ]
  },
  {
   "cell_type": "markdown",
   "metadata": {},
   "source": [
    "###  Display Image\n"
   ]
  },
  {
   "cell_type": "code",
   "execution_count": 31,
   "metadata": {},
   "outputs": [],
   "source": [
    "\n",
    "img2 = cv2.imread('Image/TG2.jpg', 0)\n",
    "\n",
    "img2_window = cv2.imshow('ImageWindow',img2)\n",
    "\n",
    "cv2.waitKey(0) #image will there untill and unless any other key is pressed\n",
    "\n",
    "#make sure to add last line if waitKey is zero\n",
    "\n",
    "cv2.destroyAllWindows() #Destroy window"
   ]
  },
  {
   "cell_type": "code",
   "execution_count": 32,
   "metadata": {},
   "outputs": [
    {
     "name": "stdout",
     "output_type": "stream",
     "text": [
      "Data Type of the Image is uint8\n",
      "Dimension of the Image is 2\n"
     ]
    }
   ],
   "source": [
    "print(f\"Data Type of the Image is {img.dtype}\")\n",
    "print(f\"Dimension of the Image is {img.ndim}\")"
   ]
  },
  {
   "cell_type": "markdown",
   "metadata": {},
   "source": [
    "### Access Pixel values & Change Pixel Value"
   ]
  },
  {
   "cell_type": "code",
   "execution_count": 27,
   "metadata": {},
   "outputs": [
    {
     "name": "stdout",
     "output_type": "stream",
     "text": [
      "0\n"
     ]
    }
   ],
   "source": [
    "#Access Pixel Values\n",
    "\n",
    "print(img2[300,300])"
   ]
  },
  {
   "cell_type": "code",
   "execution_count": 26,
   "metadata": {},
   "outputs": [],
   "source": [
    "#Change Pixel Value\n",
    "img2[300,300] = 0 "
   ]
  },
  {
   "cell_type": "markdown",
   "metadata": {},
   "source": [
    "### Modifying Image Pixel and ROI"
   ]
  },
  {
   "cell_type": "code",
   "execution_count": 33,
   "metadata": {},
   "outputs": [],
   "source": [
    "img2_copy = img2.copy() #Copy of Original Image\n",
    "\n",
    "img2_copy[100:150,80:120] = 0 #Modification\n",
    "\n",
    "cv2.imshow(\"Fixed Resizing\",img2_copy)\n",
    "cv2.waitKey(0)\n",
    "cv2.destroyAllWindows()"
   ]
  },
  {
   "cell_type": "markdown",
   "metadata": {},
   "source": [
    "### Resizing Image"
   ]
  },
  {
   "cell_type": "code",
   "execution_count": 39,
   "metadata": {},
   "outputs": [],
   "source": [
    "img3 = cv2.imread('Image/TG2.jpg', 1)\n",
    "\n",
    "resized_img = cv2.resize(img3,(300,300))  \n",
    "#resized = cv2.resize(img,(width,height), fx=1.5, fy = 1.5)\n",
    "\n",
    "#Display Image\n",
    "cv2.imshow(\"Resized Image\", resized_img);\n",
    "cv2.waitKey(0)\n",
    "cv2.destroyAllWindows()"
   ]
  },
  {
   "cell_type": "markdown",
   "metadata": {},
   "source": [
    "### Change Image Size while maintaining Aspect ratio"
   ]
  },
  {
   "cell_type": "code",
   "execution_count": 41,
   "metadata": {},
   "outputs": [],
   "source": [
    "height, width, channels = img3.shape\n",
    "\n",
    "r = 300.0/ width\n",
    "\n",
    "new_height = int(height * r)\n",
    "\n",
    "resized = cv2.resize(img3,(300, new_height))\n",
    "\n",
    "cv2.imshow(\"Aspect Ratio resize\", resized);\n",
    "cv2.waitKey(0)\n",
    "cv2.destroyAllWindows()"
   ]
  },
  {
   "cell_type": "markdown",
   "metadata": {},
   "source": [
    "### Translate"
   ]
  },
  {
   "cell_type": "code",
   "execution_count": null,
   "metadata": {},
   "outputs": [],
   "source": [
    "height, width, channels = img3.shape\n"
   ]
  }
 ],
 "metadata": {
  "kernelspec": {
   "display_name": "Python 3",
   "language": "python",
   "name": "python3"
  },
  "language_info": {
   "codemirror_mode": {
    "name": "ipython",
    "version": 3
   },
   "file_extension": ".py",
   "mimetype": "text/x-python",
   "name": "python",
   "nbconvert_exporter": "python",
   "pygments_lexer": "ipython3",
   "version": "3.9.0"
  }
 },
 "nbformat": 4,
 "nbformat_minor": 4
}
